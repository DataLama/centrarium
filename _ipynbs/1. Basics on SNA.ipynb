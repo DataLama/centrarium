{
 "cells": [
  {
   "cell_type": "markdown",
   "metadata": {},
   "source": [
    "# Network Definitions and Vocabulary"
   ]
  },
  {
   "cell_type": "markdown",
   "metadata": {},
   "source": [
    "### Definition of networks"
   ]
  },
  {
   "cell_type": "markdown",
   "metadata": {},
   "source": [
    "__A set of objects (nodes) with interconnections (edges).__"
   ]
  },
  {
   "cell_type": "markdown",
   "metadata": {},
   "source": [
    "* 복잡한 현상들을 네트워크를 통해 __표현__하고 __분석__할 수 있음. 이를 바탕으로 복잡한 현상들의 본질을 __이해__할 수 있다."
   ]
  },
  {
   "cell_type": "markdown",
   "metadata": {},
   "source": [
    "__네트워크 분석을 통해 어떤 것을 이해할 수 있나?__"
   ]
  },
  {
   "cell_type": "markdown",
   "metadata": {},
   "source": [
    "* 개별 노드 사이의 관계를 파악할 수 있음.(미시적)\n",
    "* 노드들의 군집성을 파악할 수 있음.\n",
    "* 어떤 소셜 네트워크에서 루머가 퍼지는 과정, 속도 등을 파악할 수 있음.\n",
    "* 네트워크에서 영향력이 높은 노드를 파악할 수 있음.\n",
    "* 전염병이나 바이러스의 퍼지는 속도를 늦추기 위해서 어떤 노드를 조정해야되는지 파악할 수 있음.\n",
    "* 어떤 네트워크가 쪼개질 가능성이 높은지 파악할 수 있음."
   ]
  },
  {
   "cell_type": "markdown",
   "metadata": {},
   "source": [
    "---"
   ]
  },
  {
   "cell_type": "markdown",
   "metadata": {},
   "source": [
    "### Network Definition and Vocab"
   ]
  },
  {
   "cell_type": "markdown",
   "metadata": {},
   "source": [
    "__Network: A representation of connections among a set of items.__\n",
    "- __items__ are called __nodes__(or __vertices__)\n",
    "- __connections__ are called __edges__ (or __link__ or __ties__)"
   ]
  },
  {
   "cell_type": "markdown",
   "metadata": {},
   "source": [
    "ex) 네트워크 분석을 통해 블소 사용자들 간의 연결성을 표현(__represent__)할 수 있다."
   ]
  },
  {
   "cell_type": "code",
   "execution_count": 12,
   "metadata": {},
   "outputs": [],
   "source": [
    "#### import modules\n",
    "import networkx as nx\n",
    "import matplotlib.pyplot as plt"
   ]
  },
  {
   "cell_type": "code",
   "execution_count": 11,
   "metadata": {},
   "outputs": [],
   "source": [
    "#### 네트워크 Class인 G 생성 및 구조 정의\n",
    "# nx의 graph 클래스 할당\n",
    "G = nx.Graph()\n",
    "\n",
    "# A와 B의 관계를 나타내는 edge 추가\n",
    "G.add_edge('A','B')\n",
    "G.add_edge('B','C')"
   ]
  },
  {
   "cell_type": "markdown",
   "metadata": {},
   "source": [
    "###### 원칙 상 노드를 정의하고 에지를 할당하는 것이 맞지만... networkx는 `add_edge`를 통해 두 노드의 연결 관계를 정의하면 알아서 node를 생성함."
   ]
  },
  {
   "cell_type": "code",
   "execution_count": 10,
   "metadata": {},
   "outputs": [
    {
     "data": {
      "image/png": "[encoded data removed]",
      "text/plain": [
       "<Figure size 432x288 with 1 Axes>"
      ]
     },
     "metadata": {},
     "output_type": "display_data"
    }
   ],
   "source": [
    "#### 시각화\n",
    "nx.draw(G)\n",
    "plt.show()"
   ]
  },
  {
   "cell_type": "markdown",
   "metadata": {},
   "source": [
    "### Types of networks"
   ]
  },
  {
   "cell_type": "markdown",
   "metadata": {},
   "source": [
    "__Undirected network__<br>\n",
    "\n",
    "- 방향성이 없고 그냥 연결 관계만 나타냄.\n",
    "- 인접행렬(adjancey matrix) : Symmetric."
   ]
  },
  {
   "cell_type": "markdown",
   "metadata": {},
   "source": [
    "__Directed network__<br>\n",
    "\n",
    "- 방향성이 존재하는 연결 관계.\n",
    "- 인접행렬(adjancey matrix) : nonsymmetric."
   ]
  },
  {
   "cell_type": "markdown",
   "metadata": {},
   "source": [
    "__Weighted network__<br>\n",
    "\n",
    "- 연결관계와 가중치가 존재하는 network."
   ]
  },
  {
   "cell_type": "code",
   "execution_count": 15,
   "metadata": {},
   "outputs": [],
   "source": [
    "# 네트워크에 가중치를 부여하고 싶으면... weight 파라미터를 사용.\n",
    "G.add_edge(u_of_edge='A',v_of_edge='B',weight=2)"
   ]
  },
  {
   "cell_type": "markdown",
   "metadata": {},
   "source": [
    "__Signed network__<br>\n",
    "\n",
    "- 네트워크의 연결 관계가 양(+)의 관계인지 음(-)의 관계인지 알 수 있는 네트워크\n",
    "- 우호적 관계와 적대적 관계를 표현하기위한 네트워크"
   ]
  },
  {
   "cell_type": "code",
   "execution_count": 14,
   "metadata": {},
   "outputs": [],
   "source": [
    "# 네트워크에 부호를 부여하고 싶으면... sign 파라미터를 사용.\n",
    "G.add_edge(u_of_edge='A',v_of_edge='B',sign = '+')"
   ]
  },
  {
   "cell_type": "markdown",
   "metadata": {},
   "source": [
    "__Other network__<br>\n",
    "\n",
    "- 네트워크의 연결관계를 label 또는 attribute를 통해 정의할 수 있음."
   ]
  },
  {
   "cell_type": "code",
   "execution_count": 17,
   "metadata": {},
   "outputs": [],
   "source": [
    "# 네트워크에 라벨 또는 속성을 부여하고 싶으면 relation 파라미터를 활용.\n",
    "G.add_edge(u_of_edge='A',v_of_edge='B',relation = 'freinds')"
   ]
  },
  {
   "cell_type": "markdown",
   "metadata": {},
   "source": [
    "__Multigraph__<br>\n",
    "\n",
    "- 두 노드 사이의 에지가 두개 이상인 네트워크\n",
    "- 두 노드의 관계를 하나 이상으로 표현할 수 있을 때 사용함."
   ]
  },
  {
   "cell_type": "code",
   "execution_count": 18,
   "metadata": {},
   "outputs": [
    {
     "data": {
      "text/plain": [
       "1"
      ]
     },
     "execution_count": 18,
     "metadata": {},
     "output_type": "execute_result"
    }
   ],
   "source": [
    "# multigraph 네트워크는 multigraph라는 클래스를 통해 정의할 수 있고,\n",
    "G = nx.MultiGraph()\n",
    "\n",
    "# 하나의 에지에 다중 관계를 정의함으로써 정의할 수 있다.\n",
    "G.add_edge('A','B',relation = 'friends')\n",
    "G.add_edge('A','B',relation = 'family')"
   ]
  },
  {
   "cell_type": "markdown",
   "metadata": {},
   "source": [
    "---"
   ]
  },
  {
   "cell_type": "markdown",
   "metadata": {},
   "source": [
    "### Node and Edge Attributes"
   ]
  },
  {
   "cell_type": "markdown",
   "metadata": {},
   "source": [
    "__어떤 네트워크 `G`가 정의되어 있을 때, 이들의 edge, node를 어떻게 접근할까?__"
   ]
  },
  {
   "cell_type": "code",
   "execution_count": 20,
   "metadata": {},
   "outputs": [],
   "source": [
    "#### import modules\n",
    "import networkx as nx\n",
    "import matplotlib.pyplot as plt"
   ]
  },
  {
   "cell_type": "code",
   "execution_count": 21,
   "metadata": {},
   "outputs": [],
   "source": [
    "# define graph structures\n",
    "G = nx.Graph()\n",
    "G.add_edge(\"A\",\"B\", weight = 6, relation = 'family')\n",
    "G.add_edge(\"B\",\"C\", weight = 13, relation = 'friend')\n",
    "G.add_edge(\"C\",\"F\", weight = 21, relation = 'coworker')\n",
    "G.add_edge(\"F\",\"G\", weight = 9, relation = 'freind')\n",
    "G.add_edge(\"C\",\"E\", weight = 25, relation = 'neighbor')\n",
    "G.add_edge(\"E\",\"D\", weight = 2, relation = 'coworker')\n",
    "G.add_edge(\"E\",\"I\", weight = 10, relation = 'coworker')\n",
    "G.add_edge(\"E\",\"H\", weight = 9, relation = 'coworker')\n",
    "G.add_edge(\"I\",\"J\", weight = 3, relation = 'coworker')\n",
    "G.add_edge(\"E\",\"J\", weight = 15, relation = 'family')"
   ]
  },
  {
   "cell_type": "markdown",
   "metadata": {},
   "source": [
    "__list of edges__"
   ]
  },
  {
   "cell_type": "code",
   "execution_count": 3,
   "metadata": {},
   "outputs": [
    {
     "data": {
      "text/plain": [
       "EdgeView([('A', 'B'), ('B', 'C'), ('C', 'F'), ('C', 'E'), ('F', 'G'), ('E', 'D'), ('E', 'I'), ('E', 'H'), ('E', 'J'), ('I', 'J')])"
      ]
     },
     "execution_count": 3,
     "metadata": {},
     "output_type": "execute_result"
    }
   ],
   "source": [
    "G.edges()"
   ]
  },
  {
   "cell_type": "markdown",
   "metadata": {},
   "source": [
    "__list of all edges with attributes__"
   ]
  },
  {
   "cell_type": "code",
   "execution_count": 4,
   "metadata": {
    "scrolled": true
   },
   "outputs": [
    {
     "data": {
      "text/plain": [
       "EdgeDataView([('A', 'B', {'weight': 6, 'relation': 'family'}), ('B', 'C', {'weight': 13, 'relation': 'friend'}), ('C', 'F', {'weight': 21, 'relation': 'coworker'}), ('C', 'E', {'weight': 25, 'relation': 'neighbor'}), ('F', 'G', {'weight': 9, 'relation': 'freind'}), ('E', 'D', {'weight': 2, 'relation': 'coworker'}), ('E', 'I', {'weight': 10, 'relation': 'coworker'}), ('E', 'H', {'weight': 9, 'relation': 'coworker'}), ('E', 'J', {'weight': 15, 'relation': 'family'}), ('I', 'J', {'weight': 3, 'relation': 'coworker'})])"
      ]
     },
     "execution_count": 4,
     "metadata": {},
     "output_type": "execute_result"
    }
   ],
   "source": [
    "G.edges(data=True)"
   ]
  },
  {
   "cell_type": "markdown",
   "metadata": {},
   "source": [
    "__list of all edges with particular attributes__"
   ]
  },
  {
   "cell_type": "code",
   "execution_count": 5,
   "metadata": {},
   "outputs": [
    {
     "data": {
      "text/plain": [
       "EdgeDataView([('A', 'B', 'family'), ('B', 'C', 'friend'), ('C', 'F', 'coworker'), ('C', 'E', 'neighbor'), ('F', 'G', 'freind'), ('E', 'D', 'coworker'), ('E', 'I', 'coworker'), ('E', 'H', 'coworker'), ('E', 'J', 'family'), ('I', 'J', 'coworker')])"
      ]
     },
     "execution_count": 5,
     "metadata": {},
     "output_type": "execute_result"
    }
   ],
   "source": [
    "G.edges(data='relation')"
   ]
  },
  {
   "cell_type": "markdown",
   "metadata": {},
   "source": [
    "__Directed MultiGraph__"
   ]
  },
  {
   "cell_type": "markdown",
   "metadata": {},
   "source": [
    "블소의 trade 관계는 Directed - multigraph로 표현하는 것이 유용할 것이다."
   ]
  },
  {
   "cell_type": "code",
   "execution_count": 72,
   "metadata": {},
   "outputs": [],
   "source": [
    "G_t = nx.MultiDiGraph()"
   ]
  },
  {
   "cell_type": "markdown",
   "metadata": {},
   "source": [
    "Directed Multigraph는 방향성이 존재하기 때문에 edge를 정의할 때 순서가 중요함."
   ]
  },
  {
   "cell_type": "code",
   "execution_count": 73,
   "metadata": {},
   "outputs": [
    {
     "data": {
      "text/plain": [
       "0"
      ]
     },
     "execution_count": 73,
     "metadata": {},
     "output_type": "execute_result"
    }
   ],
   "source": [
    "# A, B 쓰는 순서 중요\n",
    "G_t.add_edge('A','B',weight = 6000, relation = 'money')\n",
    "G_t.add_edge('A','B',weight = 24, relation = 'money')\n",
    "G_t.add_edge('B','A',weight = 1, relation = 'item')\n",
    "G_t.add_edge('B','C',weight = 18000, relation = 'money')\n",
    "G_t.add_edge('C','B',weight = 18, relation = 'grocery')"
   ]
  },
  {
   "cell_type": "code",
   "execution_count": 74,
   "metadata": {},
   "outputs": [
    {
     "data": {
      "text/plain": [
       "OutMultiEdgeDataView([('A', 'B', {'weight': 6000, 'relation': 'money'}), ('A', 'B', {'weight': 24, 'relation': 'money'}), ('B', 'A', {'weight': 1, 'relation': 'item'}), ('B', 'C', {'weight': 18000, 'relation': 'money'}), ('C', 'B', {'weight': 18, 'relation': 'grocery'})])"
      ]
     },
     "execution_count": 74,
     "metadata": {},
     "output_type": "execute_result"
    }
   ],
   "source": [
    "# 일반 graph와 동일한 방법으로 edge의 속성들을 불러올 수 있음.\n",
    "G_t.edges(data=True)"
   ]
  },
  {
   "cell_type": "markdown",
   "metadata": {},
   "source": [
    "__node의 속성을 정의하고 접근하기__"
   ]
  },
  {
   "cell_type": "code",
   "execution_count": null,
   "metadata": {},
   "outputs": [],
   "source": [
    "# role이라는 attribute를 통해 노드에 접근가능.\n",
    "G.add_node('A',role='trader')"
   ]
  },
  {
   "cell_type": "code",
   "execution_count": null,
   "metadata": {},
   "outputs": [],
   "source": [
    "# nodes를 통해 모든 노드를 접근 할 수 있고, data = True로 속성들에 접근가능.\n",
    "G.nodes()"
   ]
  },
  {
   "cell_type": "markdown",
   "metadata": {},
   "source": [
    "---"
   ]
  },
  {
   "cell_type": "markdown",
   "metadata": {},
   "source": [
    "### Networkx tutorial"
   ]
  },
  {
   "cell_type": "code",
   "execution_count": 2,
   "metadata": {},
   "outputs": [],
   "source": [
    "import networkx as nx\n",
    "import numpy as np\n",
    "import pandas as pd\n",
    "# 이거 해주면 draw_networkx로 그릴 때, 동적으로 접근 가능.\n",
    "%matplotlib notebook "
   ]
  },
  {
   "cell_type": "markdown",
   "metadata": {},
   "source": [
    "__Draw basic graph__"
   ]
  },
  {
   "cell_type": "code",
   "execution_count": 2,
   "metadata": {
    "scrolled": false
   },
   "outputs": [
    {
     "data": {
      "application/javascript": [
       "/* Put everything inside the global mpl namespace */\n",
       "window.mpl = {};\n",
       "\n",
       "\n",
       "mpl.get_websocket_type = function() {\n",
       "    if (typeof(WebSocket) !== 'undefined') {\n",
       "        return WebSocket;\n",
       "    } else if (typeof(MozWebSocket) !== 'undefined') {\n",
       "        return MozWebSocket;\n",
       "    } else {\n",
       "        alert('Your browser does not have WebSocket support.' +\n",
       "              'Please try Chrome, Safari or Firefox ≥ 6. ' +\n",
       "              'Firefox 4 and 5 are also supported but you ' +\n",
       "              'have to enable WebSockets in about:config.');\n",
       "    };\n",
       "}\n",
       "\n",
       "mpl.figure = function(figure_id, websocket, ondownload, parent_element) {\n",
       "    this.id = figure_id;\n",
       "\n",
       "    this.ws = websocket;\n",
       "\n",
       "    this.supports_binary = (this.ws.binaryType != undefined);\n",
       "\n",
       "    if (!this.supports_binary) {\n",
       "        var warnings = document.getElementById(\"mpl-warnings\");\n",
       "        if (warnings) {\n",
       "            warnings.style.display = 'block';\n",
       "            warnings.textContent = (\n",
       "                \"This browser does not support binary websocket messages. \" +\n",
       "                    \"Performance may be slow.\");\n",
       "        }\n",
       "    }\n",
       "\n",
       "    this.imageObj = new Image();\n",
       "\n",
       "    this.context = undefined;\n",
       "    this.message = undefined;\n",
       "    this.canvas = undefined;\n",
       "    this.rubberband_canvas = undefined;\n",
       "    this.rubberband_context = undefined;\n",
       "    this.format_dropdown = undefined;\n",
       "\n",
       "    this.image_mode = 'full';\n",
       "\n",
       "    this.root = $('<div/>');\n",
       "    this._root_extra_style(this.root)\n",
       "    this.root.attr('style', 'display: inline-block');\n",
       "\n",
       "    $(parent_element).append(this.root);\n",
       "\n",
       "    this._init_header(this);\n",
       "    this._init_canvas(this);\n",
       "    this._init_toolbar(this);\n",
       "\n",
       "    var fig = this;\n",
       "\n",
       "    this.waiting = false;\n",
       "\n",
       "    this.ws.onopen =  function () {\n",
       "            fig.send_message(\"supports_binary\", {value: fig.supports_binary});\n",
       "            fig.send_message(\"send_image_mode\", {});\n",
       "            if (mpl.ratio != 1) {\n",
       "                fig.send_message(\"set_dpi_ratio\", {'dpi_ratio': mpl.ratio});\n",
       "            }\n",
       "            fig.send_message(\"refresh\", {});\n",
       "        }\n",
       "\n",
       "    this.imageObj.onload = function() {\n",
       "            if (fig.image_mode == 'full') {\n",
       "                // Full images could contain transparency (where diff images\n",
       "                // almost always do), so we need to clear the canvas so that\n",
       "                // there is no ghosting.\n",
       "                fig.context.clearRect(0, 0, fig.canvas.width, fig.canvas.height);\n",
       "            }\n",
       "            fig.context.drawImage(fig.imageObj, 0, 0);\n",
       "        };\n",
       "\n",
       "    this.imageObj.onunload = function() {\n",
       "        fig.ws.close();\n",
       "    }\n",
       "\n",
       "    this.ws.onmessage = this._make_on_message_function(this);\n",
       "\n",
       "    this.ondownload = ondownload;\n",
       "}\n",
       "\n",
       "mpl.figure.prototype._init_header = function() {\n",
       "    var titlebar = $(\n",
       "        '<div class=\"ui-dialog-titlebar ui-widget-header ui-corner-all ' +\n",
       "        'ui-helper-clearfix\"/>');\n",
       "    var titletext = $(\n",
       "        '<div class=\"ui-dialog-title\" style=\"width: 100%; ' +\n",
       "        'text-align: center; padding: 3px;\"/>');\n",
       "    titlebar.append(titletext)\n",
       "    this.root.append(titlebar);\n",
       "    this.header = titletext[0];\n",
       "}\n",
       "\n",
       "\n",
       "\n",
       "mpl.figure.prototype._canvas_extra_style = function(canvas_div) {\n",
       "\n",
       "}\n",
       "\n",
       "\n",
       "mpl.figure.prototype._root_extra_style = function(canvas_div) {\n",
       "\n",
       "}\n",
       "\n",
       "mpl.figure.prototype._init_canvas = function() {\n",
       "    var fig = this;\n",
       "\n",
       "    var canvas_div = $('<div/>');\n",
       "\n",
       "    canvas_div.attr('style', 'position: relative; clear: both; outline: 0');\n",
       "\n",
       "    function canvas_keyboard_event(event) {\n",
       "        return fig.key_event(event, event['data']);\n",
       "    }\n",
       "\n",
       "    canvas_div.keydown('key_press', canvas_keyboard_event);\n",
       "    canvas_div.keyup('key_release', canvas_keyboard_event);\n",
       "    this.canvas_div = canvas_div\n",
       "    this._canvas_extra_style(canvas_div)\n",
       "    this.root.append(canvas_div);\n",
       "\n",
       "    var canvas = $('<canvas/>');\n",
       "    canvas.addClass('mpl-canvas');\n",
       "    canvas.attr('style', \"left: 0; top: 0; z-index: 0; outline: 0\")\n",
       "\n",
       "    this.canvas = canvas[0];\n",
       "    this.context = canvas[0].getContext(\"2d\");\n",
       "\n",
       "    var backingStore = this.context.backingStorePixelRatio ||\n",
       "\tthis.context.webkitBackingStorePixelRatio ||\n",
       "\tthis.context.mozBackingStorePixelRatio ||\n",
       "\tthis.context.msBackingStorePixelRatio ||\n",
       "\tthis.context.oBackingStorePixelRatio ||\n",
       "\tthis.context.backingStorePixelRatio || 1;\n",
       "\n",
       "    mpl.ratio = (window.devicePixelRatio || 1) / backingStore;\n",
       "\n",
       "    var rubberband = $('<canvas/>');\n",
       "    rubberband.attr('style', \"position: absolute; left: 0; top: 0; z-index: 1;\")\n",
       "\n",
       "    var pass_mouse_events = true;\n",
       "\n",
       "    canvas_div.resizable({\n",
       "        start: function(event, ui) {\n",
       "            pass_mouse_events = false;\n",
       "        },\n",
       "        resize: function(event, ui) {\n",
       "            fig.request_resize(ui.size.width, ui.size.height);\n",
       "        },\n",
       "        stop: function(event, ui) {\n",
       "            pass_mouse_events = true;\n",
       "            fig.request_resize(ui.size.width, ui.size.height);\n",
       "        },\n",
       "    });\n",
       "\n",
       "    function mouse_event_fn(event) {\n",
       "        if (pass_mouse_events)\n",
       "            return fig.mouse_event(event, event['data']);\n",
       "    }\n",
       "\n",
       "    rubberband.mousedown('button_press', mouse_event_fn);\n",
       "    rubberband.mouseup('button_release', mouse_event_fn);\n",
       "    // Throttle sequential mouse events to 1 every 20ms.\n",
       "    rubberband.mousemove('motion_notify', mouse_event_fn);\n",
       "\n",
       "    rubberband.mouseenter('figure_enter', mouse_event_fn);\n",
       "    rubberband.mouseleave('figure_leave', mouse_event_fn);\n",
       "\n",
       "    canvas_div.on(\"wheel\", function (event) {\n",
       "        event = event.originalEvent;\n",
       "        event['data'] = 'scroll'\n",
       "        if (event.deltaY < 0) {\n",
       "            event.step = 1;\n",
       "        } else {\n",
       "            event.step = -1;\n",
       "        }\n",
       "        mouse_event_fn(event);\n",
       "    });\n",
       "\n",
       "    canvas_div.append(canvas);\n",
       "    canvas_div.append(rubberband);\n",
       "\n",
       "    this.rubberband = rubberband;\n",
       "    this.rubberband_canvas = rubberband[0];\n",
       "    this.rubberband_context = rubberband[0].getContext(\"2d\");\n",
       "    this.rubberband_context.strokeStyle = \"#000000\";\n",
       "\n",
       "    this._resize_canvas = function(width, height) {\n",
       "        // Keep the size of the canvas, canvas container, and rubber band\n",
       "        // canvas in synch.\n",
       "        canvas_div.css('width', width)\n",
       "        canvas_div.css('height', height)\n",
       "\n",
       "        canvas.attr('width', width * mpl.ratio);\n",
       "        canvas.attr('height', height * mpl.ratio);\n",
       "        canvas.attr('style', 'width: ' + width + 'px; height: ' + height + 'px;');\n",
       "\n",
       "        rubberband.attr('width', width);\n",
       "        rubberband.attr('height', height);\n",
       "    }\n",
       "\n",
       "    // Set the figure to an initial 600x600px, this will subsequently be updated\n",
       "    // upon first draw.\n",
       "    this._resize_canvas(600, 600);\n",
       "\n",
       "    // Disable right mouse context menu.\n",
       "    $(this.rubberband_canvas).bind(\"contextmenu\",function(e){\n",
       "        return false;\n",
       "    });\n",
       "\n",
       "    function set_focus () {\n",
       "        canvas.focus();\n",
       "        canvas_div.focus();\n",
       "    }\n",
       "\n",
       "    window.setTimeout(set_focus, 100);\n",
       "}\n",
       "\n",
       "mpl.figure.prototype._init_toolbar = function() {\n",
       "    var fig = this;\n",
       "\n",
       "    var nav_element = $('<div/>')\n",
       "    nav_element.attr('style', 'width: 100%');\n",
       "    this.root.append(nav_element);\n",
       "\n",
       "    // Define a callback function for later on.\n",
       "    function toolbar_event(event) {\n",
       "        return fig.toolbar_button_onclick(event['data']);\n",
       "    }\n",
       "    function toolbar_mouse_event(event) {\n",
       "        return fig.toolbar_button_onmouseover(event['data']);\n",
       "    }\n",
       "\n",
       "    for(var toolbar_ind in mpl.toolbar_items) {\n",
       "        var name = mpl.toolbar_items[toolbar_ind][0];\n",
       "        var tooltip = mpl.toolbar_items[toolbar_ind][1];\n",
       "        var image = mpl.toolbar_items[toolbar_ind][2];\n",
       "        var method_name = mpl.toolbar_items[toolbar_ind][3];\n",
       "\n",
       "        if (!name) {\n",
       "            // put a spacer in here.\n",
       "            continue;\n",
       "        }\n",
       "        var button = $('<button/>');\n",
       "        button.addClass('ui-button ui-widget ui-state-default ui-corner-all ' +\n",
       "                        'ui-button-icon-only');\n",
       "        button.attr('role', 'button');\n",
       "        button.attr('aria-disabled', 'false');\n",
       "        button.click(method_name, toolbar_event);\n",
       "        button.mouseover(tooltip, toolbar_mouse_event);\n",
       "\n",
       "        var icon_img = $('<span/>');\n",
       "        icon_img.addClass('ui-button-icon-primary ui-icon');\n",
       "        icon_img.addClass(image);\n",
       "        icon_img.addClass('ui-corner-all');\n",
       "\n",
       "        var tooltip_span = $('<span/>');\n",
       "        tooltip_span.addClass('ui-button-text');\n",
       "        tooltip_span.html(tooltip);\n",
       "\n",
       "        button.append(icon_img);\n",
       "        button.append(tooltip_span);\n",
       "\n",
       "        nav_element.append(button);\n",
       "    }\n",
       "\n",
       "    var fmt_picker_span = $('<span/>');\n",
       "\n",
       "    var fmt_picker = $('<select/>');\n",
       "    fmt_picker.addClass('mpl-toolbar-option ui-widget ui-widget-content');\n",
       "    fmt_picker_span.append(fmt_picker);\n",
       "    nav_element.append(fmt_picker_span);\n",
       "    this.format_dropdown = fmt_picker[0];\n",
       "\n",
       "    for (var ind in mpl.extensions) {\n",
       "        var fmt = mpl.extensions[ind];\n",
       "        var option = $(\n",
       "            '<option/>', {selected: fmt === mpl.default_extension}).html(fmt);\n",
       "        fmt_picker.append(option)\n",
       "    }\n",
       "\n",
       "    // Add hover states to the ui-buttons\n",
       "    $( \".ui-button\" ).hover(\n",
       "        function() { $(this).addClass(\"ui-state-hover\");},\n",
       "        function() { $(this).removeClass(\"ui-state-hover\");}\n",
       "    );\n",
       "\n",
       "    var status_bar = $('<span class=\"mpl-message\"/>');\n",
       "    nav_element.append(status_bar);\n",
       "    this.message = status_bar[0];\n",
       "}\n",
       "\n",
       "mpl.figure.prototype.request_resize = function(x_pixels, y_pixels) {\n",
       "    // Request matplotlib to resize the figure. Matplotlib will then trigger a resize in the client,\n",
       "    // which will in turn request a refresh of the image.\n",
       "    this.send_message('resize', {'width': x_pixels, 'height': y_pixels});\n",
       "}\n",
       "\n",
       "mpl.figure.prototype.send_message = function(type, properties) {\n",
       "    properties['type'] = type;\n",
       "    properties['figure_id'] = this.id;\n",
       "    this.ws.send(JSON.stringify(properties));\n",
       "}\n",
       "\n",
       "mpl.figure.prototype.send_draw_message = function() {\n",
       "    if (!this.waiting) {\n",
       "        this.waiting = true;\n",
       "        this.ws.send(JSON.stringify({type: \"draw\", figure_id: this.id}));\n",
       "    }\n",
       "}\n",
       "\n",
       "\n",
       "mpl.figure.prototype.handle_save = function(fig, msg) {\n",
       "    var format_dropdown = fig.format_dropdown;\n",
       "    var format = format_dropdown.options[format_dropdown.selectedIndex].value;\n",
       "    fig.ondownload(fig, format);\n",
       "}\n",
       "\n",
       "\n",
       "mpl.figure.prototype.handle_resize = function(fig, msg) {\n",
       "    var size = msg['size'];\n",
       "    if (size[0] != fig.canvas.width || size[1] != fig.canvas.height) {\n",
       "        fig._resize_canvas(size[0], size[1]);\n",
       "        fig.send_message(\"refresh\", {});\n",
       "    };\n",
       "}\n",
       "\n",
       "mpl.figure.prototype.handle_rubberband = function(fig, msg) {\n",
       "    var x0 = msg['x0'] / mpl.ratio;\n",
       "    var y0 = (fig.canvas.height - msg['y0']) / mpl.ratio;\n",
       "    var x1 = msg['x1'] / mpl.ratio;\n",
       "    var y1 = (fig.canvas.height - msg['y1']) / mpl.ratio;\n",
       "    x0 = Math.floor(x0) + 0.5;\n",
       "    y0 = Math.floor(y0) + 0.5;\n",
       "    x1 = Math.floor(x1) + 0.5;\n",
       "    y1 = Math.floor(y1) + 0.5;\n",
       "    var min_x = Math.min(x0, x1);\n",
       "    var min_y = Math.min(y0, y1);\n",
       "    var width = Math.abs(x1 - x0);\n",
       "    var height = Math.abs(y1 - y0);\n",
       "\n",
       "    fig.rubberband_context.clearRect(\n",
       "        0, 0, fig.canvas.width, fig.canvas.height);\n",
       "\n",
       "    fig.rubberband_context.strokeRect(min_x, min_y, width, height);\n",
       "}\n",
       "\n",
       "mpl.figure.prototype.handle_figure_label = function(fig, msg) {\n",
       "    // Updates the figure title.\n",
       "    fig.header.textContent = msg['label'];\n",
       "}\n",
       "\n",
       "mpl.figure.prototype.handle_cursor = function(fig, msg) {\n",
       "    var cursor = msg['cursor'];\n",
       "    switch(cursor)\n",
       "    {\n",
       "    case 0:\n",
       "        cursor = 'pointer';\n",
       "        break;\n",
       "    case 1:\n",
       "        cursor = 'default';\n",
       "        break;\n",
       "    case 2:\n",
       "        cursor = 'crosshair';\n",
       "        break;\n",
       "    case 3:\n",
       "        cursor = 'move';\n",
       "        break;\n",
       "    }\n",
       "    fig.rubberband_canvas.style.cursor = cursor;\n",
       "}\n",
       "\n",
       "mpl.figure.prototype.handle_message = function(fig, msg) {\n",
       "    fig.message.textContent = msg['message'];\n",
       "}\n",
       "\n",
       "mpl.figure.prototype.handle_draw = function(fig, msg) {\n",
       "    // Request the server to send over a new figure.\n",
       "    fig.send_draw_message();\n",
       "}\n",
       "\n",
       "mpl.figure.prototype.handle_image_mode = function(fig, msg) {\n",
       "    fig.image_mode = msg['mode'];\n",
       "}\n",
       "\n",
       "mpl.figure.prototype.updated_canvas_event = function() {\n",
       "    // Called whenever the canvas gets updated.\n",
       "    this.send_message(\"ack\", {});\n",
       "}\n",
       "\n",
       "// A function to construct a web socket function for onmessage handling.\n",
       "// Called in the figure constructor.\n",
       "mpl.figure.prototype._make_on_message_function = function(fig) {\n",
       "    return function socket_on_message(evt) {\n",
       "        if (evt.data instanceof Blob) {\n",
       "            /* FIXME: We get \"Resource interpreted as Image but\n",
       "             * transferred with MIME type text/plain:\" errors on\n",
       "             * Chrome.  But how to set the MIME type?  It doesn't seem\n",
       "             * to be part of the websocket stream */\n",
       "            evt.data.type = \"image/png\";\n",
       "\n",
       "            /* Free the memory for the previous frames */\n",
       "            if (fig.imageObj.src) {\n",
       "                (window.URL || window.webkitURL).revokeObjectURL(\n",
       "                    fig.imageObj.src);\n",
       "            }\n",
       "\n",
       "            fig.imageObj.src = (window.URL || window.webkitURL).createObjectURL(\n",
       "                evt.data);\n",
       "            fig.updated_canvas_event();\n",
       "            fig.waiting = false;\n",
       "            return;\n",
       "        }\n",
       "        else if (typeof evt.data === 'string' && evt.data.slice(0, 21) == \"data:image/png;base64\") {\n",
       "            fig.imageObj.src = evt.data;\n",
       "            fig.updated_canvas_event();\n",
       "            fig.waiting = false;\n",
       "            return;\n",
       "        }\n",
       "\n",
       "        var msg = JSON.parse(evt.data);\n",
       "        var msg_type = msg['type'];\n",
       "\n",
       "        // Call the  \"handle_{type}\" callback, which takes\n",
       "        // the figure and JSON message as its only arguments.\n",
       "        try {\n",
       "            var callback = fig[\"handle_\" + msg_type];\n",
       "        } catch (e) {\n",
       "            console.log(\"No handler for the '\" + msg_type + \"' message type: \", msg);\n",
       "            return;\n",
       "        }\n",
       "\n",
       "        if (callback) {\n",
       "            try {\n",
       "                // console.log(\"Handling '\" + msg_type + \"' message: \", msg);\n",
       "                callback(fig, msg);\n",
       "            } catch (e) {\n",
       "                console.log(\"Exception inside the 'handler_\" + msg_type + \"' callback:\", e, e.stack, msg);\n",
       "            }\n",
       "        }\n",
       "    };\n",
       "}\n",
       "\n",
       "// from http://stackoverflow.com/questions/1114465/getting-mouse-location-in-canvas\n",
       "mpl.findpos = function(e) {\n",
       "    //this section is from http://www.quirksmode.org/js/events_properties.html\n",
       "    var targ;\n",
       "    if (!e)\n",
       "        e = window.event;\n",
       "    if (e.target)\n",
       "        targ = e.target;\n",
       "    else if (e.srcElement)\n",
       "        targ = e.srcElement;\n",
       "    if (targ.nodeType == 3) // defeat Safari bug\n",
       "        targ = targ.parentNode;\n",
       "\n",
       "    // jQuery normalizes the pageX and pageY\n",
       "    // pageX,Y are the mouse positions relative to the document\n",
       "    // offset() returns the position of the element relative to the document\n",
       "    var x = e.pageX - $(targ).offset().left;\n",
       "    var y = e.pageY - $(targ).offset().top;\n",
       "\n",
       "    return {\"x\": x, \"y\": y};\n",
       "};\n",
       "\n",
       "/*\n",
       " * return a copy of an object with only non-object keys\n",
       " * we need this to avoid circular references\n",
       " * http://stackoverflow.com/a/24161582/3208463\n",
       " */\n",
       "function simpleKeys (original) {\n",
       "  return Object.keys(original).reduce(function (obj, key) {\n",
       "    if (typeof original[key] !== 'object')\n",
       "        obj[key] = original[key]\n",
       "    return obj;\n",
       "  }, {});\n",
       "}\n",
       "\n",
       "mpl.figure.prototype.mouse_event = function(event, name) {\n",
       "    var canvas_pos = mpl.findpos(event)\n",
       "\n",
       "    if (name === 'button_press')\n",
       "    {\n",
       "        this.canvas.focus();\n",
       "        this.canvas_div.focus();\n",
       "    }\n",
       "\n",
       "    var x = canvas_pos.x * mpl.ratio;\n",
       "    var y = canvas_pos.y * mpl.ratio;\n",
       "\n",
       "    this.send_message(name, {x: x, y: y, button: event.button,\n",
       "                             step: event.step,\n",
       "                             guiEvent: simpleKeys(event)});\n",
       "\n",
       "    /* This prevents the web browser from automatically changing to\n",
       "     * the text insertion cursor when the button is pressed.  We want\n",
       "     * to control all of the cursor setting manually through the\n",
       "     * 'cursor' event from matplotlib */\n",
       "    event.preventDefault();\n",
       "    return false;\n",
       "}\n",
       "\n",
       "mpl.figure.prototype._key_event_extra = function(event, name) {\n",
       "    // Handle any extra behaviour associated with a key event\n",
       "}\n",
       "\n",
       "mpl.figure.prototype.key_event = function(event, name) {\n",
       "\n",
       "    // Prevent repeat events\n",
       "    if (name == 'key_press')\n",
       "    {\n",
       "        if (event.which === this._key)\n",
       "            return;\n",
       "        else\n",
       "            this._key = event.which;\n",
       "    }\n",
       "    if (name == 'key_release')\n",
       "        this._key = null;\n",
       "\n",
       "    var value = '';\n",
       "    if (event.ctrlKey && event.which != 17)\n",
       "        value += \"ctrl+\";\n",
       "    if (event.altKey && event.which != 18)\n",
       "        value += \"alt+\";\n",
       "    if (event.shiftKey && event.which != 16)\n",
       "        value += \"shift+\";\n",
       "\n",
       "    value += 'k';\n",
       "    value += event.which.toString();\n",
       "\n",
       "    this._key_event_extra(event, name);\n",
       "\n",
       "    this.send_message(name, {key: value,\n",
       "                             guiEvent: simpleKeys(event)});\n",
       "    return false;\n",
       "}\n",
       "\n",
       "mpl.figure.prototype.toolbar_button_onclick = function(name) {\n",
       "    if (name == 'download') {\n",
       "        this.handle_save(this, null);\n",
       "    } else {\n",
       "        this.send_message(\"toolbar_button\", {name: name});\n",
       "    }\n",
       "};\n",
       "\n",
       "mpl.figure.prototype.toolbar_button_onmouseover = function(tooltip) {\n",
       "    this.message.textContent = tooltip;\n",
       "};\n",
       "mpl.toolbar_items = [[\"Home\", \"Reset original view\", \"fa fa-home icon-home\", \"home\"], [\"Back\", \"Back to  previous view\", \"fa fa-arrow-left icon-arrow-left\", \"back\"], [\"Forward\", \"Forward to next view\", \"fa fa-arrow-right icon-arrow-right\", \"forward\"], [\"\", \"\", \"\", \"\"], [\"Pan\", \"Pan axes with left mouse, zoom with right\", \"fa fa-arrows icon-move\", \"pan\"], [\"Zoom\", \"Zoom to rectangle\", \"fa fa-square-o icon-check-empty\", \"zoom\"], [\"\", \"\", \"\", \"\"], [\"Download\", \"Download plot\", \"fa fa-floppy-o icon-save\", \"download\"]];\n",
       "\n",
       "mpl.extensions = [\"eps\", \"jpeg\", \"pdf\", \"png\", \"ps\", \"raw\", \"svg\", \"tif\"];\n",
       "\n",
       "mpl.default_extension = \"png\";var comm_websocket_adapter = function(comm) {\n",
       "    // Create a \"websocket\"-like object which calls the given IPython comm\n",
       "    // object with the appropriate methods. Currently this is a non binary\n",
       "    // socket, so there is still some room for performance tuning.\n",
       "    var ws = {};\n",
       "\n",
       "    ws.close = function() {\n",
       "        comm.close()\n",
       "    };\n",
       "    ws.send = function(m) {\n",
       "        //console.log('sending', m);\n",
       "        comm.send(m);\n",
       "    };\n",
       "    // Register the callback with on_msg.\n",
       "    comm.on_msg(function(msg) {\n",
       "        //console.log('receiving', msg['content']['data'], msg);\n",
       "        // Pass the mpl event to the overridden (by mpl) onmessage function.\n",
       "        ws.onmessage(msg['content']['data'])\n",
       "    });\n",
       "    return ws;\n",
       "}\n",
       "\n",
       "mpl.mpl_figure_comm = function(comm, msg) {\n",
       "    // This is the function which gets called when the mpl process\n",
       "    // starts-up an IPython Comm through the \"matplotlib\" channel.\n",
       "\n",
       "    var id = msg.content.data.id;\n",
       "    // Get hold of the div created by the display call when the Comm\n",
       "    // socket was opened in Python.\n",
       "    var element = $(\"#\" + id);\n",
       "    var ws_proxy = comm_websocket_adapter(comm)\n",
       "\n",
       "    function ondownload(figure, format) {\n",
       "        window.open(figure.imageObj.src);\n",
       "    }\n",
       "\n",
       "    var fig = new mpl.figure(id, ws_proxy,\n",
       "                           ondownload,\n",
       "                           element.get(0));\n",
       "\n",
       "    // Call onopen now - mpl needs it, as it is assuming we've passed it a real\n",
       "    // web socket which is closed, not our websocket->open comm proxy.\n",
       "    ws_proxy.onopen();\n",
       "\n",
       "    fig.parent_element = element.get(0);\n",
       "    fig.cell_info = mpl.find_output_cell(\"<div id='\" + id + \"'></div>\");\n",
       "    if (!fig.cell_info) {\n",
       "        console.error(\"Failed to find cell for figure\", id, fig);\n",
       "        return;\n",
       "    }\n",
       "\n",
       "    var output_index = fig.cell_info[2]\n",
       "    var cell = fig.cell_info[0];\n",
       "\n",
       "};\n",
       "\n",
       "mpl.figure.prototype.handle_close = function(fig, msg) {\n",
       "    var width = fig.canvas.width/mpl.ratio\n",
       "    fig.root.unbind('remove')\n",
       "\n",
       "    // Update the output cell to use the data from the current canvas.\n",
       "    fig.push_to_output();\n",
       "    var dataURL = fig.canvas.toDataURL();\n",
       "    // Re-enable the keyboard manager in IPython - without this line, in FF,\n",
       "    // the notebook keyboard shortcuts fail.\n",
       "    IPython.keyboard_manager.enable()\n",
       "    $(fig.parent_element).html('<img src=\"' + dataURL + '\" width=\"' + width + '\">');\n",
       "    fig.close_ws(fig, msg);\n",
       "}\n",
       "\n",
       "mpl.figure.prototype.close_ws = function(fig, msg){\n",
       "    fig.send_message('closing', msg);\n",
       "    // fig.ws.close()\n",
       "}\n",
       "\n",
       "mpl.figure.prototype.push_to_output = function(remove_interactive) {\n",
       "    // Turn the data on the canvas into data in the output cell.\n",
       "    var width = this.canvas.width/mpl.ratio\n",
       "    var dataURL = this.canvas.toDataURL();\n",
       "    this.cell_info[1]['text/html'] = '<img src=\"' + dataURL + '\" width=\"' + width + '\">';\n",
       "}\n",
       "\n",
       "mpl.figure.prototype.updated_canvas_event = function() {\n",
       "    // Tell IPython that the notebook contents must change.\n",
       "    IPython.notebook.set_dirty(true);\n",
       "    this.send_message(\"ack\", {});\n",
       "    var fig = this;\n",
       "    // Wait a second, then push the new image to the DOM so\n",
       "    // that it is saved nicely (might be nice to debounce this).\n",
       "    setTimeout(function () { fig.push_to_output() }, 1000);\n",
       "}\n",
       "\n",
       "mpl.figure.prototype._init_toolbar = function() {\n",
       "    var fig = this;\n",
       "\n",
       "    var nav_element = $('<div/>')\n",
       "    nav_element.attr('style', 'width: 100%');\n",
       "    this.root.append(nav_element);\n",
       "\n",
       "    // Define a callback function for later on.\n",
       "    function toolbar_event(event) {\n",
       "        return fig.toolbar_button_onclick(event['data']);\n",
       "    }\n",
       "    function toolbar_mouse_event(event) {\n",
       "        return fig.toolbar_button_onmouseover(event['data']);\n",
       "    }\n",
       "\n",
       "    for(var toolbar_ind in mpl.toolbar_items){\n",
       "        var name = mpl.toolbar_items[toolbar_ind][0];\n",
       "        var tooltip = mpl.toolbar_items[toolbar_ind][1];\n",
       "        var image = mpl.toolbar_items[toolbar_ind][2];\n",
       "        var method_name = mpl.toolbar_items[toolbar_ind][3];\n",
       "\n",
       "        if (!name) { continue; };\n",
       "\n",
       "        var button = $('<button class=\"btn btn-default\" href=\"#\" title=\"' + name + '\"><i class=\"fa ' + image + ' fa-lg\"></i></button>');\n",
       "        button.click(method_name, toolbar_event);\n",
       "        button.mouseover(tooltip, toolbar_mouse_event);\n",
       "        nav_element.append(button);\n",
       "    }\n",
       "\n",
       "    // Add the status bar.\n",
       "    var status_bar = $('<span class=\"mpl-message\" style=\"text-align:right; float: right;\"/>');\n",
       "    nav_element.append(status_bar);\n",
       "    this.message = status_bar[0];\n",
       "\n",
       "    // Add the close button to the window.\n",
       "    var buttongrp = $('<div class=\"btn-group inline pull-right\"></div>');\n",
       "    var button = $('<button class=\"btn btn-mini btn-primary\" href=\"#\" title=\"Stop Interaction\"><i class=\"fa fa-power-off icon-remove icon-large\"></i></button>');\n",
       "    button.click(function (evt) { fig.handle_close(fig, {}); } );\n",
       "    button.mouseover('Stop Interaction', toolbar_mouse_event);\n",
       "    buttongrp.append(button);\n",
       "    var titlebar = this.root.find($('.ui-dialog-titlebar'));\n",
       "    titlebar.prepend(buttongrp);\n",
       "}\n",
       "\n",
       "mpl.figure.prototype._root_extra_style = function(el){\n",
       "    var fig = this\n",
       "    el.on(\"remove\", function(){\n",
       "\tfig.close_ws(fig, {});\n",
       "    });\n",
       "}\n",
       "\n",
       "mpl.figure.prototype._canvas_extra_style = function(el){\n",
       "    // this is important to make the div 'focusable\n",
       "    el.attr('tabindex', 0)\n",
       "    // reach out to IPython and tell the keyboard manager to turn it's self\n",
       "    // off when our div gets focus\n",
       "\n",
       "    // location in version 3\n",
       "    if (IPython.notebook.keyboard_manager) {\n",
       "        IPython.notebook.keyboard_manager.register_events(el);\n",
       "    }\n",
       "    else {\n",
       "        // location in version 2\n",
       "        IPython.keyboard_manager.register_events(el);\n",
       "    }\n",
       "\n",
       "}\n",
       "\n",
       "mpl.figure.prototype._key_event_extra = function(event, name) {\n",
       "    var manager = IPython.notebook.keyboard_manager;\n",
       "    if (!manager)\n",
       "        manager = IPython.keyboard_manager;\n",
       "\n",
       "    // Check for shift+enter\n",
       "    if (event.shiftKey && event.which == 13) {\n",
       "        this.canvas_div.blur();\n",
       "        event.shiftKey = false;\n",
       "        // Send a \"J\" for go to next cell\n",
       "        event.which = 74;\n",
       "        event.keyCode = 74;\n",
       "        manager.command_mode();\n",
       "        manager.handle_keydown(event);\n",
       "    }\n",
       "}\n",
       "\n",
       "mpl.figure.prototype.handle_save = function(fig, msg) {\n",
       "    fig.ondownload(fig, null);\n",
       "}\n",
       "\n",
       "\n",
       "mpl.find_output_cell = function(html_output) {\n",
       "    // Return the cell and output element which can be found *uniquely* in the notebook.\n",
       "    // Note - this is a bit hacky, but it is done because the \"notebook_saving.Notebook\"\n",
       "    // IPython event is triggered only after the cells have been serialised, which for\n",
       "    // our purposes (turning an active figure into a static one), is too late.\n",
       "    var cells = IPython.notebook.get_cells();\n",
       "    var ncells = cells.length;\n",
       "    for (var i=0; i<ncells; i++) {\n",
       "        var cell = cells[i];\n",
       "        if (cell.cell_type === 'code'){\n",
       "            for (var j=0; j<cell.output_area.outputs.length; j++) {\n",
       "                var data = cell.output_area.outputs[j];\n",
       "                if (data.data) {\n",
       "                    // IPython >= 3 moved mimebundle to data attribute of output\n",
       "                    data = data.data;\n",
       "                }\n",
       "                if (data['text/html'] == html_output) {\n",
       "                    return [cell, data, j];\n",
       "                }\n",
       "            }\n",
       "        }\n",
       "    }\n",
       "}\n",
       "\n",
       "// Register the function which deals with the matplotlib target/channel.\n",
       "// The kernel may be null if the page has been refreshed.\n",
       "if (IPython.notebook.kernel != null) {\n",
       "    IPython.notebook.kernel.comm_manager.register_target('matplotlib', mpl.mpl_figure_comm);\n",
       "}\n"
      ],
      "text/plain": [
       "<IPython.core.display.Javascript object>"
      ]
     },
     "metadata": {},
     "output_type": "display_data"
    },
    {
     "data": {
      "text/html": [
       "<img src=\"data:image/png;base64,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\" width=\"640\">"
      ],
      "text/plain": [
       "<IPython.core.display.HTML object>"
      ]
     },
     "metadata": {},
     "output_type": "display_data"
    }
   ],
   "source": [
    "# Instantiate the graph\n",
    "G1 = nx.Graph()\n",
    "# add node/edge pairs\n",
    "G1.add_edges_from([(0, 1),\n",
    "                   (0, 2),\n",
    "                   (0, 3),\n",
    "                   (0, 5),\n",
    "                   (1, 3),\n",
    "                   (1, 6),\n",
    "                   (3, 4),\n",
    "                   (4, 5),\n",
    "                   (4, 7),\n",
    "                   (5, 8),\n",
    "                   (8, 9)])\n",
    "# draw the network G1\n",
    "nx.draw_networkx(G1)"
   ]
  },
  {
   "cell_type": "markdown",
   "metadata": {},
   "source": [
    "__Data loading__"
   ]
  },
  {
   "cell_type": "markdown",
   "metadata": {},
   "source": [
    "* Adjacency List\n",
    "* Adjacency Matrix\n",
    "* Edgelist\n",
    "* __Edgelist (pandas DF format)__"
   ]
  },
  {
   "cell_type": "markdown",
   "metadata": {},
   "source": [
    "###### 네트워크 그래프의 데이터를 로딩하는 다양한 방법이 있지만.... 여기서는 pandas의 edgelist로부터 로딩하는 법을 소개"
   ]
  },
  {
   "cell_type": "markdown",
   "metadata": {},
   "source": [
    "###### 기타 다른 방법은 여기 참조.https://github.com/rahulpatraiitkgp/Applied-Social-Network-Analysis-in-Python/blob/master/Week%201/Loading%2BGraphs%2Bin%2BNetworkX.ipynb"
   ]
  },
  {
   "cell_type": "markdown",
   "metadata": {},
   "source": [
    "###### 블소 트레이드 데이터 활용"
   ]
  },
  {
   "cell_type": "code",
   "execution_count": 3,
   "metadata": {},
   "outputs": [],
   "source": [
    "#### loading data\n",
    "train_trade = pd.read_csv('./new_input/train_trade_lite.csv')\n",
    "w1 = train_trade.loc[train_trade.trade_week==1,:].iloc[:,3:]"
   ]
  },
  {
   "cell_type": "code",
   "execution_count": 4,
   "metadata": {},
   "outputs": [
    {
     "data": {
      "text/html": [
       "<div>\n",
       "<style scoped>\n",
       "    .dataframe tbody tr th:only-of-type {\n",
       "        vertical-align: middle;\n",
       "    }\n",
       "\n",
       "    .dataframe tbody tr th {\n",
       "        vertical-align: top;\n",
       "    }\n",
       "\n",
       "    .dataframe thead th {\n",
       "        text-align: right;\n",
       "    }\n",
       "</style>\n",
       "<table border=\"1\" class=\"dataframe\">\n",
       "  <thead>\n",
       "    <tr style=\"text-align: right;\">\n",
       "      <th></th>\n",
       "      <th>source_acc_id</th>\n",
       "      <th>target_acc_id</th>\n",
       "      <th>item_type</th>\n",
       "      <th>item_amount</th>\n",
       "    </tr>\n",
       "  </thead>\n",
       "  <tbody>\n",
       "    <tr>\n",
       "      <th>2</th>\n",
       "      <td>te36067</td>\n",
       "      <td>tr94292</td>\n",
       "      <td>grocery</td>\n",
       "      <td>-0.056346</td>\n",
       "    </tr>\n",
       "    <tr>\n",
       "      <th>3</th>\n",
       "      <td>te36067</td>\n",
       "      <td>tr94292</td>\n",
       "      <td>grocery</td>\n",
       "      <td>-0.056346</td>\n",
       "    </tr>\n",
       "    <tr>\n",
       "      <th>4</th>\n",
       "      <td>te36067</td>\n",
       "      <td>tr94292</td>\n",
       "      <td>grocery</td>\n",
       "      <td>-0.056346</td>\n",
       "    </tr>\n",
       "    <tr>\n",
       "      <th>5</th>\n",
       "      <td>te36067</td>\n",
       "      <td>tr94292</td>\n",
       "      <td>grocery</td>\n",
       "      <td>-0.056346</td>\n",
       "    </tr>\n",
       "    <tr>\n",
       "      <th>6</th>\n",
       "      <td>te36067</td>\n",
       "      <td>tr94292</td>\n",
       "      <td>grocery</td>\n",
       "      <td>-0.056346</td>\n",
       "    </tr>\n",
       "  </tbody>\n",
       "</table>\n",
       "</div>"
      ],
      "text/plain": [
       "  source_acc_id target_acc_id item_type  item_amount\n",
       "2       te36067       tr94292   grocery    -0.056346\n",
       "3       te36067       tr94292   grocery    -0.056346\n",
       "4       te36067       tr94292   grocery    -0.056346\n",
       "5       te36067       tr94292   grocery    -0.056346\n",
       "6       te36067       tr94292   grocery    -0.056346"
      ]
     },
     "execution_count": 4,
     "metadata": {},
     "output_type": "execute_result"
    }
   ],
   "source": [
    "# pandas edgelist shape\n",
    "w1.head()"
   ]
  },
  {
   "cell_type": "markdown",
   "metadata": {},
   "source": [
    "__`nx.from.pandas_edgelist()` 함수 활용__\n",
    "* 파라미터 : pd.Dataframe / source / target / edge_attr(두개 이상일 경우 list형태) / create_using (정의되는 그래프의 클래스 형태)"
   ]
  },
  {
   "cell_type": "code",
   "execution_count": 5,
   "metadata": {},
   "outputs": [],
   "source": [
    "# nx.from_pandas_edgelist활용.데이터 \n",
    "G_w1= nx.from_pandas_edgelist(w1,'source_acc_id','target_acc_id',edge_attr=['item_type','item_amount'],create_using = nx.MultiDiGraph())"
   ]
  },
  {
   "cell_type": "code",
   "execution_count": 7,
   "metadata": {},
   "outputs": [],
   "source": [
    "# G_w1d1에서 method를 써서 나오는 객체는 dict와 유사한 객체다 but dict함수를 사용하려면 변환해주고 써야됨.\n",
    "G_w1_deg = dict(G_w1.degree())"
   ]
  },
  {
   "cell_type": "markdown",
   "metadata": {},
   "source": [
    "__degree가 가장 큰 사람 찾기.__\n",
    "\n",
    "- trade 네트워크에서 degree가 가장 크다는 것은 총 거래 횟수가 가장 많은 사람임."
   ]
  },
  {
   "cell_type": "code",
   "execution_count": 9,
   "metadata": {},
   "outputs": [
    {
     "name": "stdout",
     "output_type": "stream",
     "text": [
      "player tr28150\n",
      "102892 trades\n"
     ]
    }
   ],
   "source": [
    "max_value = max(G_w1_deg.values())\n",
    "max_key, = [i for i in G_w1_deg.keys() if G_w1_deg[i] == max_value]\n",
    "\n",
    "print('player {}\\n{} trades'.format(max_key, max_value))"
   ]
  },
  {
   "cell_type": "markdown",
   "metadata": {},
   "source": [
    "###### graph 상태에서 다양한 SNA을 할 수 있음. but 선형대수의 다양한 알고리즘을 사용하기 위해서는 행렬을 얻어야됨."
   ]
  },
  {
   "cell_type": "markdown",
   "metadata": {},
   "source": [
    "__Adjacency matrix 얻기__\n"
   ]
  },
  {
   "cell_type": "code",
   "execution_count": 14,
   "metadata": {},
   "outputs": [],
   "source": [
    "w1_adj = nx.to_pandas_adjacency(G_w1)"
   ]
  },
  {
   "cell_type": "markdown",
   "metadata": {},
   "source": [
    "---"
   ]
  },
  {
   "cell_type": "markdown",
   "metadata": {},
   "source": [
    "# [Reference]"
   ]
  },
  {
   "cell_type": "markdown",
   "metadata": {},
   "source": [
    "* 파이콘 네트워크 분석 - http://pythonkr.github.io/pyconkr-2014/pdf/pyconkr-2014-07_networkx.pdf\n",
    "* Coursera - applied social network analysis in python"
   ]
  }
 ],
 "metadata": {
  "kernelspec": {
   "display_name": "Python 3",
   "language": "python",
   "name": "python3"
  },
  "language_info": {
   "codemirror_mode": {
    "name": "ipython",
    "version": 3
   },
   "file_extension": ".py",
   "mimetype": "text/x-python",
   "name": "python",
   "nbconvert_exporter": "python",
   "pygments_lexer": "ipython3",
   "version": "3.6.5"
  }
 },
 "nbformat": 4,
 "nbformat_minor": 2
}
